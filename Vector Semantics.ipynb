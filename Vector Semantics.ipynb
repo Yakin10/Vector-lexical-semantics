{
 "cells": [
  {
   "cell_type": "markdown",
   "metadata": {},
   "source": [
    "Installing Required packages"
   ]
  },
  {
   "cell_type": "code",
   "execution_count": 1,
   "metadata": {},
   "outputs": [
    {
     "name": "stderr",
     "output_type": "stream",
     "text": [
      "[nltk_data] Downloading package brown to\n",
      "[nltk_data]     C:\\Users\\patel\\AppData\\Roaming\\nltk_data...\n",
      "[nltk_data]   Package brown is already up-to-date!\n",
      "[nltk_data] Downloading package stopwords to\n",
      "[nltk_data]     C:\\Users\\patel\\AppData\\Roaming\\nltk_data...\n",
      "[nltk_data]   Package stopwords is already up-to-date!\n"
     ]
    },
    {
     "data": {
      "text/plain": [
       "True"
      ]
     },
     "execution_count": 1,
     "metadata": {},
     "output_type": "execute_result"
    }
   ],
   "source": [
    "%pip install pandas\n",
    "%pip install numpy\n",
    "%pip install gensim\n",
    "%pip install nltk\n",
    "%pip install sklearn\n",
    "%pip install pytrec_eval\n",
    "import nltk\n",
    "nltk.download('brown')\n",
    "nltk.download('stopwords')"
   ]
  },
  {
   "cell_type": "markdown",
   "metadata": {},
   "source": [
    "Importing Required Packages"
   ]
  },
  {
   "cell_type": "code",
   "execution_count": 2,
   "metadata": {},
   "outputs": [],
   "source": [
    "import pandas as pd\n",
    "import numpy as np\n",
    "from gensim.models import Word2Vec\n",
    "from nltk.corpus import brown, stopwords\n",
    "import re\n",
    "from sklearn.feature_extraction.text import TfidfVectorizer\n",
    "from sklearn.metrics.pairwise import cosine_similarity\n",
    "import pytrec_eval"
   ]
  },
  {
   "cell_type": "markdown",
   "metadata": {},
   "source": [
    "Importing SimLex-999 Data"
   ]
  },
  {
   "cell_type": "code",
   "execution_count": 3,
   "metadata": {},
   "outputs": [],
   "source": [
    "data = list()\n",
    "\n",
    "with open('data\\\\SimLex-999.txt','r') as rd:\n",
    "    for l in rd.readlines():\n",
    "        data.append(l.split('\\t'))"
   ]
  },
  {
   "cell_type": "code",
   "execution_count": 4,
   "metadata": {},
   "outputs": [],
   "source": [
    "df = pd.DataFrame(data[1:], columns=data[0])"
   ]
  },
  {
   "cell_type": "code",
   "execution_count": 5,
   "metadata": {},
   "outputs": [
    {
     "data": {
      "text/html": [
       "<div>\n",
       "<style scoped>\n",
       "    .dataframe tbody tr th:only-of-type {\n",
       "        vertical-align: middle;\n",
       "    }\n",
       "\n",
       "    .dataframe tbody tr th {\n",
       "        vertical-align: top;\n",
       "    }\n",
       "\n",
       "    .dataframe thead th {\n",
       "        text-align: right;\n",
       "    }\n",
       "</style>\n",
       "<table border=\"1\" class=\"dataframe\">\n",
       "  <thead>\n",
       "    <tr style=\"text-align: right;\">\n",
       "      <th></th>\n",
       "      <th>word1</th>\n",
       "      <th>word2</th>\n",
       "      <th>POS</th>\n",
       "      <th>SimLex999</th>\n",
       "      <th>conc(w1)</th>\n",
       "      <th>conc(w2)</th>\n",
       "      <th>concQ</th>\n",
       "      <th>Assoc(USF)</th>\n",
       "      <th>SimAssoc333</th>\n",
       "      <th>SD(SimLex)\\n</th>\n",
       "    </tr>\n",
       "  </thead>\n",
       "  <tbody>\n",
       "    <tr>\n",
       "      <th>0</th>\n",
       "      <td>old</td>\n",
       "      <td>new</td>\n",
       "      <td>A</td>\n",
       "      <td>1.58</td>\n",
       "      <td>2.72</td>\n",
       "      <td>2.81</td>\n",
       "      <td>2</td>\n",
       "      <td>7.25</td>\n",
       "      <td>1</td>\n",
       "      <td>0.41\\n</td>\n",
       "    </tr>\n",
       "    <tr>\n",
       "      <th>1</th>\n",
       "      <td>smart</td>\n",
       "      <td>intelligent</td>\n",
       "      <td>A</td>\n",
       "      <td>9.2</td>\n",
       "      <td>1.75</td>\n",
       "      <td>2.46</td>\n",
       "      <td>1</td>\n",
       "      <td>7.11</td>\n",
       "      <td>1</td>\n",
       "      <td>0.67\\n</td>\n",
       "    </tr>\n",
       "    <tr>\n",
       "      <th>2</th>\n",
       "      <td>hard</td>\n",
       "      <td>difficult</td>\n",
       "      <td>A</td>\n",
       "      <td>8.77</td>\n",
       "      <td>3.76</td>\n",
       "      <td>2.21</td>\n",
       "      <td>2</td>\n",
       "      <td>5.94</td>\n",
       "      <td>1</td>\n",
       "      <td>1.19\\n</td>\n",
       "    </tr>\n",
       "    <tr>\n",
       "      <th>3</th>\n",
       "      <td>happy</td>\n",
       "      <td>cheerful</td>\n",
       "      <td>A</td>\n",
       "      <td>9.55</td>\n",
       "      <td>2.56</td>\n",
       "      <td>2.34</td>\n",
       "      <td>1</td>\n",
       "      <td>5.85</td>\n",
       "      <td>1</td>\n",
       "      <td>2.18\\n</td>\n",
       "    </tr>\n",
       "    <tr>\n",
       "      <th>4</th>\n",
       "      <td>hard</td>\n",
       "      <td>easy</td>\n",
       "      <td>A</td>\n",
       "      <td>0.95</td>\n",
       "      <td>3.76</td>\n",
       "      <td>2.07</td>\n",
       "      <td>2</td>\n",
       "      <td>5.82</td>\n",
       "      <td>1</td>\n",
       "      <td>0.93\\n</td>\n",
       "    </tr>\n",
       "  </tbody>\n",
       "</table>\n",
       "</div>"
      ],
      "text/plain": [
       "   word1        word2 POS SimLex999 conc(w1) conc(w2) concQ Assoc(USF)  \\\n",
       "0    old          new   A      1.58     2.72     2.81     2       7.25   \n",
       "1  smart  intelligent   A       9.2     1.75     2.46     1       7.11   \n",
       "2   hard    difficult   A      8.77     3.76     2.21     2       5.94   \n",
       "3  happy     cheerful   A      9.55     2.56     2.34     1       5.85   \n",
       "4   hard         easy   A      0.95     3.76     2.07     2       5.82   \n",
       "\n",
       "  SimAssoc333 SD(SimLex)\\n  \n",
       "0           1       0.41\\n  \n",
       "1           1       0.67\\n  \n",
       "2           1       1.19\\n  \n",
       "3           1       2.18\\n  \n",
       "4           1       0.93\\n  "
      ]
     },
     "execution_count": 5,
     "metadata": {},
     "output_type": "execute_result"
    }
   ],
   "source": [
    "df.head()"
   ]
  },
  {
   "cell_type": "code",
   "execution_count": 6,
   "metadata": {},
   "outputs": [],
   "source": [
    "unique_words = [i for i in df.word1.unique()]\n",
    "w2_unique = [i for i in df.word2.unique()]\n",
    "for i in w2_unique:\n",
    "    if(i not in unique_words):\n",
    "        unique_words.append(i)"
   ]
  },
  {
   "cell_type": "markdown",
   "metadata": {},
   "source": [
    "Making dictonary of similar words from gold standard"
   ]
  },
  {
   "cell_type": "code",
   "execution_count": 7,
   "metadata": {},
   "outputs": [],
   "source": [
    "def similar_word_simlex(word, df):\n",
    "    sim = dict()\n",
    "    for j,k in enumerate(df.word1):\n",
    "        if(word==k):\n",
    "            sim[df.word2.iloc[j]] = df.SimLex999.iloc[j]\n",
    "    for j,k in enumerate(df.word2):\n",
    "        if(word==k):\n",
    "            sim[df.word1.iloc[j]] = df.SimLex999.iloc[j]\n",
    "    sim = {k:v for k,v in sorted(sim.items(), key=lambda x:x[1], reverse=True)}\n",
    "    return [i for i in sim.keys()]"
   ]
  },
  {
   "cell_type": "code",
   "execution_count": 8,
   "metadata": {},
   "outputs": [],
   "source": [
    "top_10_g = dict()\n",
    "for i in unique_words:\n",
    "    top_10_g[i] = similar_word_simlex(i, df)"
   ]
  },
  {
   "cell_type": "code",
   "execution_count": 9,
   "metadata": {},
   "outputs": [
    {
     "data": {
      "text/plain": [
       "['rapid']"
      ]
     },
     "execution_count": 9,
     "metadata": {},
     "output_type": "execute_result"
    }
   ],
   "source": [
    "top_10_g['fast']"
   ]
  },
  {
   "cell_type": "code",
   "execution_count": 10,
   "metadata": {},
   "outputs": [],
   "source": [
    "for v in top_10_g:\n",
    "    t = top_10_g[v]\n",
    "    #keys = [i for i in t.keys()]\n",
    "    for i in t:\n",
    "        new = similar_word_simlex(i,df)\n",
    "    for i in new:\n",
    "        if(i not in t):\n",
    "            if(i != v):\n",
    "                t.append(i)\n",
    "    while(len(t)>10):\n",
    "        t.pop(-1)"
   ]
  },
  {
   "cell_type": "code",
   "execution_count": 11,
   "metadata": {},
   "outputs": [],
   "source": [
    "for w in top_10_g.keys():\n",
    "    top_10_g[w] = {x:1 for x in top_10_g[w]}"
   ]
  },
  {
   "cell_type": "code",
   "execution_count": null,
   "metadata": {},
   "outputs": [],
   "source": [
    "top_10_g"
   ]
  },
  {
   "cell_type": "markdown",
   "metadata": {},
   "source": [
    "Importing Adventure and Romance Corpus from NLTK Brown Corpus"
   ]
  },
  {
   "cell_type": "code",
   "execution_count": 13,
   "metadata": {},
   "outputs": [],
   "source": [
    "corpus_adv = brown.sents(categories=['adventure'])\n",
    "corpus_rom = brown.sents(categories=['romance'])"
   ]
  },
  {
   "cell_type": "markdown",
   "metadata": {},
   "source": [
    "Using Tf-idf Vectorizer"
   ]
  },
  {
   "cell_type": "markdown",
   "metadata": {},
   "source": [
    "Preprocessing"
   ]
  },
  {
   "cell_type": "code",
   "execution_count": 14,
   "metadata": {},
   "outputs": [],
   "source": [
    "def preprocess(corpus):\n",
    "    text = []\n",
    "    stop_word = stopwords.words('english')\n",
    "    for t in corpus:\n",
    "        t = \" \".join(t)\n",
    "        t = re.sub(\"[^a-zA-Z]\",\" \",t)\n",
    "        t = [w for w in t.split() if w not in stop_word]\n",
    "        text.append(\" \".join(t))\n",
    "    return text"
   ]
  },
  {
   "cell_type": "markdown",
   "metadata": {},
   "source": [
    "For Calculating Similarity Score"
   ]
  },
  {
   "cell_type": "code",
   "execution_count": 15,
   "metadata": {},
   "outputs": [],
   "source": [
    "def similarity_score(text):\n",
    "    vec = TfidfVectorizer(use_idf=True, ngram_range=(1,1))\n",
    "    met = vec.fit_transform(text)\n",
    "    cosine_sim = cosine_similarity(met,met)\n",
    "    tfidf_word = vec.get_feature_names()\n",
    "    return cosine_sim, tfidf_word"
   ]
  },
  {
   "cell_type": "markdown",
   "metadata": {},
   "source": [
    "Finding Similar Words"
   ]
  },
  {
   "cell_type": "code",
   "execution_count": 16,
   "metadata": {},
   "outputs": [],
   "source": [
    "def find_sim_word(top_10_g, tfidf_word, cosine_sim):\n",
    "    y = dict()\n",
    "    for w in top_10_g.keys():\n",
    "        for i,j in zip(tfidf_word,cosine_sim):\n",
    "            if(i==w):\n",
    "                d = {k:v for k,v in zip(tfidf_word,j) if(k!=w)}\n",
    "                s_result = dict(sorted(d.items(), key=lambda x:x[1], reverse=True))\n",
    "                s_result = dict(list(s_result.items())[0:10])\n",
    "                y[w]=s_result\n",
    "    return y"
   ]
  },
  {
   "cell_type": "markdown",
   "metadata": {},
   "source": [
    "Calculating MAP and NDCG"
   ]
  },
  {
   "cell_type": "code",
   "execution_count": 17,
   "metadata": {},
   "outputs": [],
   "source": [
    "def get_map_ndcg(result,top_10_g):\n",
    "    map = 0\n",
    "    ndcg = 0\n",
    "    for word in result.keys():\n",
    "        qrel = {word:top_10_g[word]}\n",
    "        run = {word:result[word]}\n",
    "        eval = pytrec_eval.RelevanceEvaluator(qrel,{'map','ndcg'})\n",
    "        map = map + eval.evaluate(run)[word]['map']\n",
    "        ndcg = ndcg + eval.evaluate(run)[word]['ndcg']\n",
    "    return map, ndcg"
   ]
  },
  {
   "cell_type": "code",
   "execution_count": 27,
   "metadata": {},
   "outputs": [
    {
     "name": "stderr",
     "output_type": "stream",
     "text": [
      "C:\\Users\\patel\\AppData\\Local\\Programs\\Python\\Python39\\lib\\site-packages\\sklearn\\utils\\deprecation.py:87: FutureWarning: Function get_feature_names is deprecated; get_feature_names is deprecated in 1.0 and will be removed in 1.2. Please use get_feature_names_out instead.\n",
      "  warnings.warn(msg, category=FutureWarning)\n"
     ]
    }
   ],
   "source": [
    "text = preprocess(corpus=corpus_rom)\n",
    "cosine_sim,tfidf_word = similarity_score(text=text)\n",
    "res = find_sim_word(top_10_g=top_10_g, tfidf_word=tfidf_word, cosine_sim=cosine_sim)\n",
    "map_r, ndcg_r = get_map_ndcg(result=res, top_10_g=top_10_g)\n"
   ]
  },
  {
   "cell_type": "code",
   "execution_count": 28,
   "metadata": {},
   "outputs": [
    {
     "data": {
      "image/png": "[encoded data removed]",
      "text/plain": [
       "<Figure size 432x288 with 1 Axes>"
      ]
     },
     "metadata": {
      "needs_background": "light"
     },
     "output_type": "display_data"
    }
   ],
   "source": [
    "text = preprocess(corpus=corpus_adv)\n",
    "cosine_sim,tfidf_word = similarity_score(text=text)\n",
    "res = find_sim_word(top_10_g=top_10_g, tfidf_word=tfidf_word, cosine_sim=cosine_sim)\n",
    "map_a, ndcg_a = get_map_ndcg(result=res, top_10_g=top_10_g)\n",
    "\n",
    "import matplotlib.pyplot as plt\n",
    "height = [ndcg_a,ndcg_r]\n",
    "x = ['Brown(Adventure)','Brown(Romance)']\n",
    "plt.bar(x=x, height=height)\n",
    "plt.title(\"NDCG\")\n",
    "plt.show()"
   ]
  },
  {
   "cell_type": "code",
   "execution_count": 29,
   "metadata": {},
   "outputs": [
    {
     "data": {
      "image/png": "[encoded data removed]",
      "text/plain": [
       "<Figure size 432x288 with 1 Axes>"
      ]
     },
     "metadata": {
      "needs_background": "light"
     },
     "output_type": "display_data"
    }
   ],
   "source": [
    "height = [map_a,map_r]\n",
    "plt.bar(x=x,height=height)\n",
    "plt.title(\"MAP\")\n",
    "plt.show()"
   ]
  },
  {
   "cell_type": "markdown",
   "metadata": {},
   "source": [
    "Using Word2Vec Model"
   ]
  },
  {
   "cell_type": "code",
   "execution_count": 20,
   "metadata": {},
   "outputs": [],
   "source": [
    "def w2v_map_ndcg(windows, vector_size, category, top_10_g):\n",
    "    ndcg, map = 0,0\n",
    "    w2v = Word2Vec(sentences=brown.sents(categories=[category]), window=windows, min_count=1, vector_size=vector_size, epochs=100)\n",
    "    m,n =0,0\n",
    "    words = []\n",
    "    for word in top_10_g.keys():\n",
    "        if(word in w2v.wv.key_to_index):\n",
    "            words.append(word)\n",
    "    for word in words:\n",
    "        sims = {}\n",
    "        for s in w2v.wv.most_similar(word,topn=10):\n",
    "            sims[s[0]] = s[1]\n",
    "        qrel = {word:top_10_g[word]}\n",
    "        run = {word:sims}\n",
    "        eval = pytrec_eval.RelevanceEvaluator(qrel, {'map','ndcg'})\n",
    "        m = m + eval.evaluate(run)[word]['map']\n",
    "        n = n + eval.evaluate(run)[word]['ndcg']\n",
    "    return n, m"
   ]
  },
  {
   "cell_type": "markdown",
   "metadata": {},
   "source": [
    "For Adventure Corpus"
   ]
  },
  {
   "cell_type": "code",
   "execution_count": 21,
   "metadata": {},
   "outputs": [],
   "source": [
    "windows = [1,2,5,10]\n",
    "vector_size = [10,50,100,300]\n",
    "ndcg = dict()\n",
    "map = dict()\n",
    "for w in windows:\n",
    "    for v in vector_size:\n",
    "        ndcg[f'W:{w}, V:{v}'], map[f'W:{w}, V:{v}'] = w2v_map_ndcg(w,v,'adventure', top_10_g)\n",
    "\n",
    "label = ndcg.keys()"
   ]
  },
  {
   "cell_type": "markdown",
   "metadata": {},
   "source": [
    "Ploting Graph"
   ]
  },
  {
   "cell_type": "code",
   "execution_count": 22,
   "metadata": {},
   "outputs": [
    {
     "data": {
      "image/png": "[encoded data removed]",
      "text/plain": [
       "<Figure size 1440x360 with 1 Axes>"
      ]
     },
     "metadata": {
      "needs_background": "light"
     },
     "output_type": "display_data"
    }
   ],
   "source": [
    "plt.figure(figsize=(20,5))\n",
    "plt.bar(x=label, height=ndcg.values())\n",
    "plt.title(\"NDCG for word2vec with windows(1,2,5,10) and vector(10,50,100,300) for Adventure Corpus\")\n",
    "plt.show()"
   ]
  },
  {
   "cell_type": "code",
   "execution_count": 23,
   "metadata": {},
   "outputs": [
    {
     "data": {
      "image/png": "[encoded data removed]",
      "text/plain": [
       "<Figure size 1584x360 with 1 Axes>"
      ]
     },
     "metadata": {
      "needs_background": "light"
     },
     "output_type": "display_data"
    }
   ],
   "source": [
    "plt.figure(figsize=(22,5))\n",
    "plt.bar(x=label, height=map.values())\n",
    "plt.title(\"MAP for word2vec with windows(1,2,5,10) and vector(10,50,100,300) for Adventure Corpus\")\n",
    "plt.show()"
   ]
  },
  {
   "cell_type": "markdown",
   "metadata": {},
   "source": [
    "For Romance Corpus"
   ]
  },
  {
   "cell_type": "code",
   "execution_count": 24,
   "metadata": {},
   "outputs": [],
   "source": [
    "ndcgr, mapr = dict(), dict()\n",
    "for w in windows:\n",
    "    for v in vector_size:\n",
    "        ndcgr[f'W:{w}, V:{v}'], mapr[f'W:{w}, V:{v}'] = w2v_map_ndcg(w,v,'romance', top_10_g)"
   ]
  },
  {
   "cell_type": "markdown",
   "metadata": {},
   "source": [
    "Ploting Graphs"
   ]
  },
  {
   "cell_type": "code",
   "execution_count": 25,
   "metadata": {},
   "outputs": [
    {
     "data": {
      "image/png": "[encoded data removed]",
      "text/plain": [
       "<Figure size 1584x360 with 1 Axes>"
      ]
     },
     "metadata": {
      "needs_background": "light"
     },
     "output_type": "display_data"
    }
   ],
   "source": [
    "plt.figure(figsize=(22,5))\n",
    "plt.bar(x=label, height=ndcgr.values())\n",
    "plt.title(\"NDCG for word2vec with windows(1,2,5,10) and vector(10,50,100,300) for Romance Corpus\")\n",
    "plt.show()"
   ]
  },
  {
   "cell_type": "code",
   "execution_count": 26,
   "metadata": {},
   "outputs": [
    {
     "data": {
      "image/png": "[encoded data removed]",
      "text/plain": [
       "<Figure size 1584x360 with 1 Axes>"
      ]
     },
     "metadata": {
      "needs_background": "light"
     },
     "output_type": "display_data"
    }
   ],
   "source": [
    "\n",
    "plt.figure(figsize=(22,5))\n",
    "plt.bar(x=label,height=mapr.values())\n",
    "plt.title(\"Map for word2vec with windows(1,2,5,10) and vector(10,50,100,300) for Romance Corpus\")\n",
    "plt.show()"
   ]
  }
 ],
 "metadata": {
  "interpreter": {
   "hash": "2be5faf79681da6f2a61fdfdd5405d65d042280f7fba6178067603e3a2925119"
  },
  "kernelspec": {
   "display_name": "Python 3.10.4 64-bit",
   "language": "python",
   "name": "python3"
  },
  "language_info": {
   "codemirror_mode": {
    "name": "ipython",
    "version": 3
   },
   "file_extension": ".py",
   "mimetype": "text/x-python",
   "name": "python",
   "nbconvert_exporter": "python",
   "pygments_lexer": "ipython3",
   "version": "3.9.7"
  },
  "orig_nbformat": 4
 },
 "nbformat": 4,
 "nbformat_minor": 2
}
